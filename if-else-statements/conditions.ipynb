{
 "cells": [
  {
   "cell_type": "code",
   "execution_count": 1,
   "metadata": {},
   "outputs": [
    {
     "name": "stdout",
     "output_type": "stream",
     "text": [
      "Audi\n",
      "BMW\n",
      "Carolla\n",
      "Mercedez\n",
      "Rolls Rice\n"
     ]
    }
   ],
   "source": [
    "cars = [\"audi\",\"bmw\",\"Carolla\",\"mercedez\",\"Rolls Rice\"]\n",
    "for car in cars:\n",
    "    if car==\"bmw\":\n",
    "        print(car.upper())\n",
    "    else:\n",
    "        print(car.title())"
   ]
  },
  {
   "cell_type": "code",
   "execution_count": 2,
   "metadata": {},
   "outputs": [
    {
     "name": "stdout",
     "output_type": "stream",
     "text": [
      "hello usman\n",
      "hello ali\n",
      "hello talha\n",
      "hello huzaifa\n",
      "Hello admin! would you like to see the status report\n"
     ]
    }
   ],
   "source": [
    "users = [\"usman\",\"ali\",\"talha\",\"huzaifa\",\"admin\"]\n",
    "for user in users:\n",
    "    if user ==\"admin\":\n",
    "        print(\"Hello admin! would you like to see the status report\")\n",
    "    else:\n",
    "        print(f\"hello {user}\")"
   ]
  },
  {
   "cell_type": "code",
   "execution_count": 3,
   "metadata": {},
   "outputs": [
    {
     "name": "stdout",
     "output_type": "stream",
     "text": [
      "usman is available\n",
      "mazhar is available\n",
      "danish is available\n",
      "sorry bilal is not available. try different name\n",
      "sorry amir is not available. try different name\n"
     ]
    }
   ],
   "source": [
    "current_users = [\"usman\",\"mazhar\",\"danish\",\"bilal\",\"amir\"]\n",
    "new_users = [\"ali\",\"bilal\",\"talha\",\"amir\",\"huzaifa\"]\n",
    "for current_user in current_users:\n",
    "    if current_user in new_users:\n",
    "        print(f\"sorry {current_user } is not available. try different name\")\n",
    "    else:\n",
    "        print(f\"{current_user} is available\")\n"
   ]
  }
 ],
 "metadata": {
  "kernelspec": {
   "display_name": "Python 3",
   "language": "python",
   "name": "python3"
  },
  "language_info": {
   "codemirror_mode": {
    "name": "ipython",
    "version": 3
   },
   "file_extension": ".py",
   "mimetype": "text/x-python",
   "name": "python",
   "nbconvert_exporter": "python",
   "pygments_lexer": "ipython3",
   "version": "3.12.2"
  }
 },
 "nbformat": 4,
 "nbformat_minor": 2
}
