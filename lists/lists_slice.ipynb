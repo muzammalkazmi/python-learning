{
 "cells": [
  {
   "cell_type": "markdown",
   "metadata": {},
   "source": [
    "# Slice method is used to work on a specific part of the list\n",
    "# to slice, give first and last index of the list element\n",
    "# same like range it also ignores the last index like slice(1:4) means start from index number 1 till before 4"
   ]
  },
  {
   "cell_type": "code",
   "execution_count": 1,
   "metadata": {},
   "outputs": [
    {
     "name": "stdout",
     "output_type": "stream",
     "text": [
      "['Usman', 'Ali', 'Abu Ubaida', 'Saad']\n"
     ]
    }
   ],
   "source": [
    "names = [\"Abu bakr\", \"Umer\", \"Usman\", \"Ali\", \"Abu Ubaida\", \"Saad\", \"Zubair\"]\n",
    "print(names[2:6])"
   ]
  },
  {
   "cell_type": "code",
   "execution_count": null,
   "metadata": {},
   "outputs": [],
   "source": [
    "# if second argument is missing then python return all elements starting from given index"
   ]
  },
  {
   "cell_type": "code",
   "execution_count": 2,
   "metadata": {},
   "outputs": [
    {
     "name": "stdout",
     "output_type": "stream",
     "text": [
      "['Usman', 'Ali', 'Abu Ubaida', 'Saad', 'Zubair']\n"
     ]
    }
   ],
   "source": [
    "print(names[2:])"
   ]
  },
  {
   "cell_type": "markdown",
   "metadata": {},
   "source": [
    "# slicing from last by using -2 argument"
   ]
  },
  {
   "cell_type": "code",
   "execution_count": 3,
   "metadata": {},
   "outputs": [
    {
     "name": "stdout",
     "output_type": "stream",
     "text": [
      "['Ali', 'Abu Ubaida', 'Saad', 'Zubair']\n"
     ]
    }
   ],
   "source": [
    "print(names[-4:])"
   ]
  },
  {
   "cell_type": "markdown",
   "metadata": {},
   "source": [
    "# loopng over sliced lists"
   ]
  },
  {
   "cell_type": "code",
   "execution_count": 5,
   "metadata": {},
   "outputs": [
    {
     "name": "stdout",
     "output_type": "stream",
     "text": [
      "the names of my caliphs of islam are ['Abu bakr', 'Umer', 'Usman', 'Ali']\n"
     ]
    }
   ],
   "source": [
    "print(f\"the names of my caliphs of islam are {names[:4]}\")"
   ]
  },
  {
   "cell_type": "code",
   "execution_count": 6,
   "metadata": {},
   "outputs": [
    {
     "name": "stdout",
     "output_type": "stream",
     "text": [
      "['Abu bakr', 'Umer', 'Usman', 'Ali', 'Abu Ubaida', 'Saad', 'Zubair']\n"
     ]
    }
   ],
   "source": [
    "great_persons= names\n",
    "print(great_persons)"
   ]
  },
  {
   "cell_type": "markdown",
   "metadata": {},
   "source": [
    "# the above result can be obtained by slicing without any value"
   ]
  },
  {
   "cell_type": "code",
   "execution_count": 7,
   "metadata": {},
   "outputs": [
    {
     "name": "stdout",
     "output_type": "stream",
     "text": [
      "['Abu bakr', 'Umer', 'Usman', 'Ali', 'Abu Ubaida', 'Saad', 'Zubair']\n"
     ]
    }
   ],
   "source": [
    "holly_persons= names[:]\n",
    "print(holly_persons)"
   ]
  }
 ],
 "metadata": {
  "kernelspec": {
   "display_name": "Python 3",
   "language": "python",
   "name": "python3"
  },
  "language_info": {
   "codemirror_mode": {
    "name": "ipython",
    "version": 3
   },
   "file_extension": ".py",
   "mimetype": "text/x-python",
   "name": "python",
   "nbconvert_exporter": "python",
   "pygments_lexer": "ipython3",
   "version": "3.12.2"
  }
 },
 "nbformat": 4,
 "nbformat_minor": 2
}
