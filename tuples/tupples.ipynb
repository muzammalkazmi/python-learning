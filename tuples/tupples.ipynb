{
 "cells": [
  {
   "cell_type": "markdown",
   "metadata": {},
   "source": [
    "# tuple is a immutable list of items\n",
    "# represented with parenthesis\n",
    "# but elements are accessed with the same way as like lists\n"
   ]
  },
  {
   "cell_type": "code",
   "execution_count": null,
   "metadata": {},
   "outputs": [],
   "source": [
    "tuppledimensions = (40,21,25)\n",
    "tuppledimensions[0]\n",
    "tuppledimensions[2]"
   ]
  },
  {
   "cell_type": "markdown",
   "metadata": {},
   "source": [
    "# an existing element of tupple cannot be changed although of same type"
   ]
  },
  {
   "cell_type": "code",
   "execution_count": 4,
   "metadata": {},
   "outputs": [
    {
     "ename": "NameError",
     "evalue": "name 'dimensions' is not defined",
     "output_type": "error",
     "traceback": [
      "\u001b[1;31m---------------------------------------------------------------------------\u001b[0m",
      "\u001b[1;31mNameError\u001b[0m                                 Traceback (most recent call last)",
      "Cell \u001b[1;32mIn[4], line 1\u001b[0m\n\u001b[1;32m----> 1\u001b[0m \u001b[43mdimensions\u001b[49m[\u001b[38;5;241m0\u001b[39m]\u001b[38;5;241m=\u001b[39m \u001b[38;5;241m45\u001b[39m \u001b[38;5;66;03m# yeilds error because assignment operator does not work in tupples\u001b[39;00m\n",
      "\u001b[1;31mNameError\u001b[0m: name 'dimensions' is not defined"
     ]
    }
   ],
   "source": [
    "tuppledimensions[0]= 45 # yeilds error because assignment operator does not work in tupples"
   ]
  },
  {
   "cell_type": "markdown",
   "metadata": {},
   "source": [
    "# loop works the same way as in lists"
   ]
  },
  {
   "cell_type": "code",
   "execution_count": 6,
   "metadata": {},
   "outputs": [
    {
     "name": "stdout",
     "output_type": "stream",
     "text": [
      "34\n",
      "45\n",
      "36\n"
     ]
    }
   ],
   "source": [
    "tuppledimensions= (34,45,36)\n",
    "for tuppledimension in tuppledimensions:\n",
    " print(tuppledimension)"
   ]
  },
  {
   "cell_type": "markdown",
   "metadata": {},
   "source": [
    "# A bufet-style restaurant example"
   ]
  },
  {
   "cell_type": "code",
   "execution_count": 10,
   "metadata": {},
   "outputs": [
    {
     "name": "stdout",
     "output_type": "stream",
     "text": [
      "Biryani\n",
      "Qorma\n",
      "Dal Chawal\n",
      "sweet dish\n",
      "lassi\n",
      "Plao\n",
      "Mutton\n",
      "Dal Chawal\n",
      "sweet dish\n",
      "lassi\n"
     ]
    }
   ],
   "source": [
    "bufet= (\"Biryani\",\"Qorma\", \"Dal Chawal\",\"sweet dish\",\"lassi\")\n",
    "for item in bufet:\n",
    "    print(item)\n",
    "#bufet[1]=\"Mutton\" # Assignment operator does not work in tupple\n",
    "bufet=(\"Plao\",\"Mutton\",\"Dal Chawal\",\"sweet dish\",\"lassi\") #reasigning the tupple to represent the change\n",
    "for item in bufet:\n",
    "    print(item)"
   ]
  }
 ],
 "metadata": {
  "kernelspec": {
   "display_name": "Python 3",
   "language": "python",
   "name": "python3"
  },
  "language_info": {
   "codemirror_mode": {
    "name": "ipython",
    "version": 3
   },
   "file_extension": ".py",
   "mimetype": "text/x-python",
   "name": "python",
   "nbconvert_exporter": "python",
   "pygments_lexer": "ipython3",
   "version": "3.12.2"
  }
 },
 "nbformat": 4,
 "nbformat_minor": 2
}
